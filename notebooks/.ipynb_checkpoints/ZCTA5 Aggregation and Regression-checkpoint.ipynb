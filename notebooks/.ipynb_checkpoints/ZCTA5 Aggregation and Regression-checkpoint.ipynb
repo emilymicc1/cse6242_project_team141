{
 "cells": [
  {
   "cell_type": "code",
   "execution_count": null,
   "id": "e9fa34a1",
   "metadata": {},
   "outputs": [],
   "source": [
    "import pandas as pd\n",
    "import numpy as np\n",
    "from tqdm import tqdm\n",
    "from sklearn.linear_model import ElasticNet, ElasticNetCV, LassoCV, Lasso\n",
    "from sklearn.model_selection import train_test_split, cross_val_score\n",
    "from sklearn.metrics import mean_squared_error, r2_score\n",
    "import seaborn as sns\n",
    "import matplotlib.pyplot as plt\n",
    "import statsmodels.api as sm\n",
    "import scipy.stats as stats\n",
    "from sklearn.preprocessing import StandardScaler, RobustScaler, scale\n",
    "import seaborn as sns "
   ]
  },
  {
   "cell_type": "code",
   "execution_count": null,
   "id": "67f98d6f",
   "metadata": {},
   "outputs": [],
   "source": [
    "####################################### SET CITY VARS HERE ###########################################################\n",
    "\n",
    "place_abbr = 'cinci'\n",
    "#place_abbr = 'seattle'\n",
    "#place_abbr = 'nyc'\n",
    "#place_abbr = 'houston'\n",
    "#place_abbr = 'sf'\n",
    "#place_abbr = 'atlanta'\n",
    "\n",
    "tracts_deserts_path = 'data/tract_desert_measures/cinci_desert_tracts.csv'\n",
    "\n",
    "save_data_dir = 'data/zcta_health/'\n",
    "save_data_name =  place_abbr+'_zcta_health.csv'\n",
    "save_transf_data_name =  place_abbr+'_zcta_health_logt.csv'\n",
    "\n",
    "save_regression_path = 'data/zcta_health/results/'\n",
    "save_lasso_name = place_abbr+'_zcta_lasso_results'"
   ]
  },
  {
   "cell_type": "markdown",
   "id": "97226356",
   "metadata": {},
   "source": [
    "# Aggregation/Cleaning"
   ]
  },
  {
   "cell_type": "code",
   "execution_count": null,
   "id": "5fa20ab4",
   "metadata": {},
   "outputs": [],
   "source": [
    "tracts_deserts = pd.read_csv(tracts_deserts_path, dtype={'GEOID':'str'})"
   ]
  },
  {
   "cell_type": "code",
   "execution_count": null,
   "id": "dea57ae4",
   "metadata": {},
   "outputs": [],
   "source": [
    "zip_to_tract = pd.read_csv(\"data/zcta_to_tract10.csv\", dtype=str)\n",
    "zip_to_tract = zip_to_tract[['GEOID', 'ZCTA5']]"
   ]
  },
  {
   "cell_type": "code",
   "execution_count": null,
   "id": "dae040ac",
   "metadata": {},
   "outputs": [],
   "source": [
    "tracts_zcta_deserts = pd.merge(tracts_deserts, zip_to_tract, on='GEOID').groupby('ZCTA5', as_index=False).median()"
   ]
  },
  {
   "cell_type": "code",
   "execution_count": null,
   "id": "8a57abb2",
   "metadata": {},
   "outputs": [],
   "source": [
    "zcta_health = pd.read_csv(\"data/PLACES__ZCTA_Data__GIS_Friendly_Format___2021_release.csv\", dtype={'ZCTA5':'str', 'GEOID':'str'})\n",
    "zcta_health = pd.merge(zcta_health, tracts_zcta_deserts, on='ZCTA5')\n",
    "\n",
    "income_vars = pd.read_csv('data/ZCTA_median_incomes.csv', dtype=str).rename(columns={'ZCTA':'ZCTA5'})\n",
    "zcta_health = pd.merge(zcta_health, income_vars, on='ZCTA5')\n",
    "\n",
    "zcta_health.to_csv(save_data_dir+save_data_name, index=False)"
   ]
  },
  {
   "cell_type": "code",
   "execution_count": null,
   "id": "0e67560c",
   "metadata": {},
   "outputs": [],
   "source": [
    "zcta_health.loc[zcta_health['Household median income'] == '-', 'Household median income'] = 'nan'\n",
    "zcta_health['Household median income'] = zcta_health['Household median income'].str.replace('+', '').str.replace(',','')\n",
    "zcta_health = zcta_health.astype({'Household median income':'float'})\n",
    "zcta_health['Household median income'] = zcta_health['Household median income'].fillna(zcta_health['Household median income'].median())"
   ]
  },
  {
   "cell_type": "code",
   "execution_count": null,
   "id": "a93889ea",
   "metadata": {},
   "outputs": [],
   "source": [
    "desert_measures = ['food_closest_travel_times', 'physical_closest_dist', 'transport_closest_dist', 'education_closest_travel_times', 'worship_closest_travel_times']\n",
    "\n",
    "zcta_health_logt = zcta_health.copy()\n",
    "zcta_health_logt[desert_measures] = zcta_health_logt[desert_measures].apply(lambda x: np.log(x+1))\n",
    "zcta_health_logt.to_csv(save_transf_data_name, index=False)"
   ]
  },
  {
   "cell_type": "markdown",
   "id": "5c414606",
   "metadata": {},
   "source": [
    "# Analysis"
   ]
  },
  {
   "cell_type": "code",
   "execution_count": null,
   "id": "ed405c78",
   "metadata": {},
   "outputs": [],
   "source": [
    "name_mapping = {'access2': 'Health insurance access', 'arthritis': 'Arthritis prevalence', 'binge': 'Binge drinking prevalence',\n",
    "               'bphigh': 'High blood pressure prevalence', 'bpmed': 'Medium blood pressure prevalence', 'cancer': 'Cancer prevalence',\n",
    "               'casthma': 'Asthma prevalence', 'cervical': 'Cervical cancer screenings', 'chd': 'Coronary heart disease prevalence',\n",
    "               'checkup': 'Routine checkups', 'cholscreen': 'Cholesterol screenings', 'colon_screen': 'Colon cancer screenings',\n",
    "               'copd': 'COPD prevalence', 'corem': 'Core men\\'s health', 'corew': 'Core women\\'s health', 'csmoking': 'Smoking prevalence',\n",
    "               'dental': 'Dental checkups', 'depression': 'Depression prevalence', 'diabetes': 'Diabetes prevalence', 'ghlth': 'General poor health prevalence',\n",
    "               'highchol': 'High cholesterol prevalence', 'kidney': 'Chronic kidney disease', 'lpa': 'No physical activity', 'mammouse': 'Mammograms',\n",
    "               'mhlth': 'Poor mental health prevalence', 'obesity': 'Obesity prevalence', 'phlth': 'Poor physical health', 'sleep': 'Poor sleep prevalence',\n",
    "               'stroke': 'Stroke prevalence', 'teethlost': 'Teeth loss prevalence'}\n",
    "\n",
    "results_all_nan = pd.DataFrame({'Health condition': [np.nan for c in zcta_health.columns if c.endswith('CrudePrev')], 'Food': [np.nan for c in zcta_health.columns if c.endswith('CrudePrev')],\n",
    "                       'Physical health': [np.nan for c in zcta_health.columns if c.endswith('CrudePrev')], 'Public transport': [np.nan for c in zcta_health.columns if c.endswith('CrudePrev')],\n",
    "                        'Education': [np.nan for c in zcta_health.columns if c.endswith('CrudePrev')], 'Houses of worship': [np.nan for c in zcta_health.columns if c.endswith('CrudePrev')],\n",
    "                       'Household Median Income': [np.nan for c in zcta_health.columns if c.endswith('CrudePrev')], 'RSquared': [np.nan for c in zcta_health.columns if c.endswith('CrudePrev')], \n",
    "                            'MSE': [np.nan for c in zcta_health.columns if c.endswith('CrudePrev')]})\n",
    "\n",
    "results_nan = pd.DataFrame({'Health condition': [np.nan for c in zcta_health.columns if c.endswith('CrudePrev')], 'Food': [np.nan for c in zcta_health.columns if c.endswith('CrudePrev')],\n",
    "                       'Physical health': [np.nan for c in zcta_health.columns if c.endswith('CrudePrev')], 'Household Median Income': [np.nan for c in zcta_health.columns if c.endswith('CrudePrev')],\n",
    "                       'RSquared': [np.nan for c in zcta_health.columns if c.endswith('CrudePrev')], 'MSE': [np.nan for c in zcta_health.columns if c.endswith('CrudePrev')]})\n",
    "\n",
    "desert_measures = ['food_closest_travel_times', 'physical_closest_dist', 'transport_closest_dist', 'education_closest_travel_times', 'worship_closest_travel_times']\n",
    "add_vars = ['Household median income']"
   ]
  },
  {
   "cell_type": "code",
   "execution_count": null,
   "id": "d0892b6b",
   "metadata": {},
   "outputs": [],
   "source": [
    "def update_all_vars():\n",
    "        results.iat[i, 0] = name\n",
    "        results.iat[i, 1] = regr.coef_[0]\n",
    "        results.iat[i, 2] = regr.coef_[1]\n",
    "        results.iat[i, 3] = regr.coef_[2]\n",
    "        results.iat[i, 4] = regr.coef_[3]\n",
    "        results.iat[i, 5] = regr.coef_[4]\n",
    "        results.iat[i, 6] = regr.coef_[5]\n",
    "        results.iat[i, 7] = regr.score(X_test, y_test)\n",
    "        results.iat[i, 8] = mse_test\n",
    "def update_vars():\n",
    "        results.iat[i, 0] = name\n",
    "        results.iat[i, 1] = regr.coef_[0]\n",
    "        results.iat[i, 2] = regr.coef_[1]\n",
    "        results.iat[i, 3] = regr.coef_[2]\n",
    "        results.iat[i, 4] = regr.score(X_test, y_test)\n",
    "        results.iat[i, 5] = mse_test"
   ]
  },
  {
   "cell_type": "markdown",
   "id": "03f14933",
   "metadata": {},
   "source": [
    "## Run LASSO regression:\n",
    "- For all deserts types; *all_deserts = True*\n",
    "- Food and physical activity deserts only; *all_deserts = False*\n",
    "- With log transformed desert measures; *log_transf = True*\n",
    "- Without log transformed desert measures; *log_transf = False*"
   ]
  },
  {
   "cell_type": "code",
   "execution_count": null,
   "id": "4f6b95f0",
   "metadata": {},
   "outputs": [],
   "source": [
    "#set desert and log transformation params\n",
    "all_deserts=False\n",
    "log_transf = False"
   ]
  },
  {
   "cell_type": "code",
   "execution_count": null,
   "id": "34018601",
   "metadata": {},
   "outputs": [],
   "source": [
    "if all_deserts == True:\n",
    "    desert_measures = ['food_closest_travel_times', 'physical_closest_dist', 'transport_closest_dist', 'education_closest_travel_times', 'worship_closest_travel_times']\n",
    "    results = results_all_nan.copy()\n",
    "else:\n",
    "    desert_measures = ['food_closest_travel_times', 'physical_closest_dist']\n",
    "    results = results_nan.copy()\n",
    "if log_transf == True:\n",
    "    df = zcta_health_logt\n",
    "else:\n",
    "    df = zcta_health\n",
    "alphas = []\n",
    "l1_ratios = []\n",
    "i=0\n",
    "\n",
    "\n",
    "for c in df.columns:\n",
    "    if c.endswith('CrudePrev'):\n",
    "        name = name_mapping[c[:-10].lower()]\n",
    "        \n",
    "        x = df[desert_measures+add_vars].to_numpy(copy=True)\n",
    "        scaler = StandardScaler()\n",
    "        xscale = scaler.fit_transform(x)\n",
    "        \n",
    "        y = df[c].to_numpy(copy=True)\n",
    "        \n",
    "        xscale = xscale[~np.isnan(y)]\n",
    "        \n",
    "        y = scale(y[~np.isnan(y)])\n",
    "        center_function = lambda x: x - x.mean()\n",
    "        y = center_function(y)\n",
    "        \n",
    "        X_train, X_test, y_train, y_test = train_test_split(xscale, \n",
    "                                                    y, \n",
    "                                                    test_size=0.3, \n",
    "                                                    random_state=42)\n",
    "        \n",
    "        lasso_cv = LassoCV(cv = 5, normalize=True).fit(X_train,y_train)\n",
    "        \n",
    "        alpha = lasso_cv.alpha_\n",
    "        alphas.append(alpha)\n",
    "        \n",
    "        regr = Lasso(alpha=alpha, normalize=True)\n",
    "        regr.fit(X_train, y_train.reshape(-1, 1))\n",
    "        \n",
    "        predictions = regr.predict(X_test)\n",
    "        y_train_pred = regr.predict(X_train)\n",
    "        mse_test = mean_squared_error(y_test, predictions)\n",
    "        \n",
    "        if all_deserts==True:\n",
    "            update_all_vars()\n",
    "        else:\n",
    "            update_vars()\n",
    "\n",
    "        i += 1\n",
    "\n",
    "results_round = results.round({'Food': 4, 'Physical health':4, 'Public transport':4, 'Education':4,\n",
    "             'House of worship':4, 'RSquared':4})\n",
    "results_round.sort_values(by='RSquared', ascending=False).reset_index(drop=True)"
   ]
  },
  {
   "cell_type": "markdown",
   "id": "f95b9b3a",
   "metadata": {},
   "source": [
    "## Test LASSO on Whole Dataset"
   ]
  },
  {
   "cell_type": "code",
   "execution_count": null,
   "id": "42221f28",
   "metadata": {},
   "outputs": [],
   "source": [
    "#set desert and log transformation params\n",
    "all_deserts=True\n",
    "log_transf = False"
   ]
  },
  {
   "cell_type": "code",
   "execution_count": null,
   "id": "2ab527f0",
   "metadata": {},
   "outputs": [],
   "source": [
    "if all_deserts == True:\n",
    "    desert_measures = ['food_closest_travel_times', 'physical_closest_dist', 'transport_closest_dist', 'education_closest_travel_times', 'worship_closest_travel_times']\n",
    "    results = results_all_nan.copy()\n",
    "else:\n",
    "    desert_measures = ['food_closest_travel_times', 'physical_closest_dist']\n",
    "    results = results_nan.copy()\n",
    "if log_transf == True:\n",
    "    df = zcta_health_logt\n",
    "else:\n",
    "    df = zcta_health\n",
    "alphas = []\n",
    "l1_ratios = []\n",
    "i=0\n",
    "\n",
    "\n",
    "for c in df.columns:\n",
    "    if c.endswith('CrudePrev'):\n",
    "        name = name_mapping[c[:-10].lower()]\n",
    "        \n",
    "        x = df[desert_measures+add_vars].to_numpy(copy=True)\n",
    "        scaler = StandardScaler()\n",
    "        xscale = scaler.fit_transform(x)\n",
    "        \n",
    "        y = df[c].to_numpy(copy=True)\n",
    "        \n",
    "        xscale = xscale[~np.isnan(y)]\n",
    "        \n",
    "        y = scale(y[~np.isnan(y)])\n",
    "        center_function = lambda x: x - x.mean()\n",
    "        y = center_function(y)\n",
    "        \n",
    "        X_train, X_test, y_train, y_test = train_test_split(xscale, \n",
    "                                                    y, \n",
    "                                                    test_size=0.3, \n",
    "                                                    random_state=42)\n",
    "        \n",
    "        lasso_cv = LassoCV(cv = 5, normalize=True).fit(X_train,y_train)\n",
    "        \n",
    "        alpha = lasso_cv.alpha_\n",
    "        alphas.append(alpha)\n",
    "        \n",
    "        regr = Lasso(alpha=alpha, normalize=True)\n",
    "        regr.fit(X_train, y_train.reshape(-1, 1))\n",
    "        \n",
    "        predictions = regr.predict(xscale)\n",
    "        mse_test = mean_squared_error(y, predictions)\n",
    "        \n",
    "        if all_deserts==True:\n",
    "            update_all_vars()\n",
    "        else:\n",
    "            update_vars()\n",
    "\n",
    "        i += 1\n",
    "\n",
    "results_round = results.round({'Food': 4, 'Physical health':4, 'Public transport':4, 'Education':4,\n",
    "             'House of worship':4, 'RSquared':4})\n",
    "results_round.sort_values(by='RSquared', ascending=False).reset_index(drop=True)"
   ]
  },
  {
   "cell_type": "markdown",
   "id": "394f39b5",
   "metadata": {},
   "source": [
    "# Save Output:"
   ]
  },
  {
   "cell_type": "code",
   "execution_count": null,
   "id": "3355a264",
   "metadata": {},
   "outputs": [],
   "source": [
    "if all_deserts == True:\n",
    "    save_lasso_name_ = save_lasso_name + '_all'\n",
    "else:\n",
    "    save_lasso_name_ = save_lasso_name\n",
    "if log_transf == True:\n",
    "    save_lasso_name_ = save_lasso_name + '_logt'\n",
    "else:\n",
    "    save_lasso_name_ = save_lasso_name\n",
    "results_round.to_csv(save_regression_path+save_lasso_name_+'.csv', index=False)"
   ]
  },
  {
   "cell_type": "code",
   "execution_count": null,
   "id": "9cfc04e5",
   "metadata": {},
   "outputs": [],
   "source": []
  }
 ],
 "metadata": {
  "kernelspec": {
   "display_name": "Python [conda env:root] *",
   "language": "python",
   "name": "conda-root-py"
  },
  "language_info": {
   "codemirror_mode": {
    "name": "ipython",
    "version": 3
   },
   "file_extension": ".py",
   "mimetype": "text/x-python",
   "name": "python",
   "nbconvert_exporter": "python",
   "pygments_lexer": "ipython3",
   "version": "3.9.7"
  }
 },
 "nbformat": 4,
 "nbformat_minor": 5
}
