{
 "cells": [
  {
   "cell_type": "code",
   "execution_count": 1,
   "id": "4dfec295",
   "metadata": {},
   "outputs": [
    {
     "ename": "ModuleNotFoundError",
     "evalue": "No module named 'osmnx'",
     "output_type": "error",
     "traceback": [
      "\u001b[0;31m---------------------------------------------------------------------------\u001b[0m",
      "\u001b[0;31mModuleNotFoundError\u001b[0m                       Traceback (most recent call last)",
      "\u001b[0;32m/var/folders/xv/tskjqjvs1hd9_5_96mmdcbnw0000gn/T/ipykernel_38580/3523633055.py\u001b[0m in \u001b[0;36m<module>\u001b[0;34m\u001b[0m\n\u001b[1;32m      1\u001b[0m \u001b[0;32mimport\u001b[0m \u001b[0mh5py\u001b[0m\u001b[0;34m\u001b[0m\u001b[0;34m\u001b[0m\u001b[0m\n\u001b[0;32m----> 2\u001b[0;31m \u001b[0;32mimport\u001b[0m \u001b[0mosmnx\u001b[0m \u001b[0;32mas\u001b[0m \u001b[0mox\u001b[0m\u001b[0;34m\u001b[0m\u001b[0;34m\u001b[0m\u001b[0m\n\u001b[0m\u001b[1;32m      3\u001b[0m \u001b[0;32mimport\u001b[0m \u001b[0mpandas\u001b[0m \u001b[0;32mas\u001b[0m \u001b[0mpd\u001b[0m\u001b[0;34m\u001b[0m\u001b[0;34m\u001b[0m\u001b[0m\n\u001b[1;32m      4\u001b[0m \u001b[0;32mimport\u001b[0m \u001b[0mnumpy\u001b[0m \u001b[0;32mas\u001b[0m \u001b[0mnp\u001b[0m\u001b[0;34m\u001b[0m\u001b[0;34m\u001b[0m\u001b[0m\n\u001b[1;32m      5\u001b[0m \u001b[0;32mimport\u001b[0m \u001b[0mnetworkx\u001b[0m \u001b[0;32mas\u001b[0m \u001b[0mnx\u001b[0m\u001b[0;34m\u001b[0m\u001b[0;34m\u001b[0m\u001b[0m\n",
      "\u001b[0;31mModuleNotFoundError\u001b[0m: No module named 'osmnx'"
     ]
    }
   ],
   "source": [
    "import h5py\n",
    "import osmnx as ox\n",
    "import pandas as pd\n",
    "import numpy as np\n",
    "import networkx as nx\n",
    "from tqdm import tqdm\n",
    "from itertools import product\n",
    "from functools import cache\n",
    "from scipy.spatial import KDTree\n",
    "from haversine import haversine\n",
    "from shapely.geometry import Point"
   ]
  },
  {
   "cell_type": "code",
   "execution_count": 77,
   "id": "5ebcd8b3",
   "metadata": {},
   "outputs": [],
   "source": [
    "houston_countyfips = ['48291', '48039', '48071', '48157', '48167', '48201', '48339', '48473']\n",
    "#all tracts start with\n",
    "hamiltoncounty_fips = '39061' \n",
    "kingscounty_fips = '53033'\n",
    "sf_fips = '06075'\n",
    "\n",
    "#source https://www.census.gov/geographies/reference-files/time-series/geo/gazetteer-files.2019.html\n",
    "tractcenters = pd.read_csv(\"data/2019_Gaz_tracts_national.txt\", sep='\\t', dtype=str)\n",
    "tractcenters.rename(columns={'INTPTLONG                                                                                                                             ':'INTPTLONG'}, inplace=True)\n",
    "tractcenters['COUNTYFP'] = tractcenters['GEOID'].apply(lambda x: x[:5])\n",
    "tractcenters = tractcenters[['GEOID', 'COUNTYFP', 'INTPTLAT','INTPTLONG']]\n",
    "fultoncounty_fips = '13121'"
   ]
  },
  {
   "cell_type": "code",
   "execution_count": 64,
   "id": "c8e7c2a0",
   "metadata": {},
   "outputs": [],
   "source": [
    "def coords_in_city(place, lats, lons):\n",
    "    gdf = ox.geocode_to_gdf(place)\n",
    "    geom = gdf.loc[0, 'geometry']\n",
    "\n",
    "    # get the bounding box of the city\n",
    "    geom.bounds\n",
    "\n",
    "    # determine if a point is within the city boundary\n",
    "    mask = []\n",
    "    for lat, lon in zip(lats, lons):\n",
    "        coords = (lon, lat)\n",
    "        mask.append(geom.intersects(Point(coords)))\n",
    "    return mask"
   ]
  },
  {
   "cell_type": "code",
   "execution_count": 70,
   "id": "f4d1c65f",
   "metadata": {
    "scrolled": true
   },
   "outputs": [
    {
     "name": "stderr",
     "output_type": "stream",
     "text": [
      "/opt/anaconda3/envs/ox/lib/python3.10/site-packages/osmnx/geocoder.py:110: FutureWarning: The frame.append method is deprecated and will be removed from pandas in a future version. Use pandas.concat instead.\n",
      "  gdf = gdf.append(_geocode_query_to_gdf(q, wr, by_osmid))\n"
     ]
    }
   ],
   "source": [
    "tractcenters_cinci = tractcenters.copy()[tractcenters['COUNTYFP'] == hamiltoncounty_fips]\n",
    "place = 'Cincinnati, Ohio'                     \n",
    "lats = tractcenters_cinci.copy()['INTPTLAT'].astype(float).to_numpy()\n",
    "lons = tractcenters_cinci.copy()['INTPTLONG'].astype(float).to_numpy()\n",
    "mask = coords_in_city(place, lats, lons)\n",
    "#tractcenters_cinci[mask].to_csv('data/tract_centers/tractcenters_cinci.csv', index=False)"
   ]
  },
  {
   "cell_type": "code",
   "execution_count": 63,
   "id": "2ab2bead",
   "metadata": {},
   "outputs": [],
   "source": [
    "tractcenters_hou = tractcenters.copy()[tractcenters['COUNTYFP'].isin(houston_countyfips)]\n",
    "#tractcenters_hou.to_csv('data/tract_centers/tractcenters_hou.csv', index=False)"
   ]
  },
  {
   "cell_type": "code",
   "execution_count": 78,
   "id": "6492ef69",
   "metadata": {},
   "outputs": [
    {
     "name": "stderr",
     "output_type": "stream",
     "text": [
      "/opt/anaconda3/envs/ox/lib/python3.10/site-packages/osmnx/geocoder.py:110: FutureWarning: The frame.append method is deprecated and will be removed from pandas in a future version. Use pandas.concat instead.\n",
      "  gdf = gdf.append(_geocode_query_to_gdf(q, wr, by_osmid))\n"
     ]
    }
   ],
   "source": [
    "tractcenters_sea = tractcenters.copy()[tractcenters['COUNTYFP'] == kingscounty_fips]\n",
    "place='Seattle, Washington'\n",
    "lats = tractcenters_sea.copy()['INTPTLAT'].astype(float).to_numpy()\n",
    "lons = tractcenters_sea.copy()['INTPTLONG'].astype(float).to_numpy()\n",
    "mask = coords_in_city(place, lats, lons)\n",
    "#tractcenters_sea[mask].to_csv('data/tract_centers/tractcenters_sea.csv', index=False)"
   ]
  },
  {
   "cell_type": "code",
   "execution_count": 73,
   "id": "16e41ad7",
   "metadata": {},
   "outputs": [],
   "source": [
    "tractcenters_sf = tractcenters.copy()[tractcenters['COUNTYFP'] == sf_fips]\n",
    "#tractcenters_sf.to_csv('data/tract_centers/tractcenters_sf.csv',index=False)"
   ]
  },
  {
   "cell_type": "code",
   "execution_count": 80,
   "id": "af550685",
   "metadata": {},
   "outputs": [],
   "source": [
    "tractcenters_nyc = pd.read_csv(\"data/ny_tracts.csv\", dtype=str)\n",
    "tractcenters_nyc['CountyFIPS'] = tractcenters_nyc['STATEFP']+tractcenters_nyc['COUNTYFP']\n",
    "tractcenters_nyc['TractFIPS'] = tractcenters_nyc['STATEFP']+tractcenters_nyc['COUNTYFP']+tractcenters_nyc['TRACTCE']\n",
    "tractcenters_nyc = tractcenters_nyc[tractcenters_nyc['CountyFIPS'].isin(['36081', '36061', '36005', '36047', '36085'])]\n",
    "#tractcenters = tractcenters.astype({'TractFIPS':'int'})\n",
    "tracts = tractcenters_nyc['TractFIPS'].to_numpy()\n",
    "tractcenters_nyc.drop(['STATEFP','COUNTYFP', 'TRACTCE'], inplace=True, axis=1)\n",
    "tractcenters_nyc.to_csv('data/tract_centers/tractcenters_nyc.csv',index=False)"
   ]
  },
  {
   "cell_type": "code",
   "execution_count": null,
   "id": "fef5fca9",
   "metadata": {},
   "outputs": [],
   "source": [
    "tractcenters_atl = tractcenters.copy()[tractcenters['COUNTYFP'] == fultoncounty_fips]\n",
    "place='Atlanta, Georgia'\n",
    "lats = tractcenters_atl.copy()['INTPTLAT'].astype(float).to_numpy()\n",
    "lons = tractcenters_atl.copy()['INTPTLONG'].astype(float).to_numpy()\n",
    "mask = coords_in_city(place, lats, lons)\n",
    "tractcenters_atl.to_csv('data/tract_centers/tractcenters_atl.csv',index=False)"
   ]
  },
  {
   "cell_type": "code",
   "execution_count": 1,
   "id": "f9dbd729",
   "metadata": {},
   "outputs": [
    {
     "ename": "NameError",
     "evalue": "name 'pd' is not defined",
     "output_type": "error",
     "traceback": [
      "\u001b[0;31m---------------------------------------------------------------------------\u001b[0m",
      "\u001b[0;31mNameError\u001b[0m                                 Traceback (most recent call last)",
      "\u001b[0;32m/var/folders/xv/tskjqjvs1hd9_5_96mmdcbnw0000gn/T/ipykernel_38551/2963421897.py\u001b[0m in \u001b[0;36m<module>\u001b[0;34m\u001b[0m\n\u001b[0;32m----> 1\u001b[0;31m \u001b[0mfood_atlas\u001b[0m \u001b[0;34m=\u001b[0m \u001b[0mpd\u001b[0m\u001b[0;34m.\u001b[0m\u001b[0mread_excel\u001b[0m\u001b[0;34m(\u001b[0m\u001b[0;34m'data/FoodAccessResearchAtlasData2019.xlsx'\u001b[0m\u001b[0;34m,\u001b[0m \u001b[0msheet_name\u001b[0m \u001b[0;34m=\u001b[0m \u001b[0;34m'Food Access Research Atlas'\u001b[0m\u001b[0;34m,\u001b[0m \u001b[0mdtype\u001b[0m\u001b[0;34m=\u001b[0m\u001b[0mstr\u001b[0m\u001b[0;34m)\u001b[0m\u001b[0;34m\u001b[0m\u001b[0;34m\u001b[0m\u001b[0m\n\u001b[0m\u001b[1;32m      2\u001b[0m \u001b[0mincome_vars\u001b[0m \u001b[0;34m=\u001b[0m \u001b[0mfood_atlas\u001b[0m\u001b[0;34m[\u001b[0m\u001b[0;34m[\u001b[0m\u001b[0;34m'CensusTract'\u001b[0m\u001b[0;34m,\u001b[0m \u001b[0;34m'LowIncomeTracts'\u001b[0m\u001b[0;34m,\u001b[0m \u001b[0;34m'PovertyRate'\u001b[0m\u001b[0;34m,\u001b[0m \u001b[0;34m'MedianFamilyIncome'\u001b[0m\u001b[0;34m]\u001b[0m\u001b[0;34m]\u001b[0m\u001b[0;31m \u001b[0m\u001b[0;31m\\\u001b[0m\u001b[0;34m\u001b[0m\u001b[0;34m\u001b[0m\u001b[0m\n\u001b[1;32m      3\u001b[0m \u001b[0;34m.\u001b[0m\u001b[0mrename\u001b[0m\u001b[0;34m(\u001b[0m\u001b[0mcolumns\u001b[0m\u001b[0;34m=\u001b[0m\u001b[0;34m{\u001b[0m\u001b[0;34m'CensusTract'\u001b[0m\u001b[0;34m:\u001b[0m\u001b[0;34m'TractFIPS'\u001b[0m\u001b[0;34m}\u001b[0m\u001b[0;34m)\u001b[0m\u001b[0;34m.\u001b[0m\u001b[0mastype\u001b[0m\u001b[0;34m(\u001b[0m\u001b[0;34m{\u001b[0m\u001b[0;34m'LowIncomeTracts'\u001b[0m\u001b[0;34m:\u001b[0m\u001b[0mint\u001b[0m\u001b[0;34m,\u001b[0m \u001b[0;34m'MedianFamilyIncome'\u001b[0m\u001b[0;34m:\u001b[0m\u001b[0;34m'float'\u001b[0m\u001b[0;34m,\u001b[0m \u001b[0;34m'PovertyRate'\u001b[0m\u001b[0;34m:\u001b[0m\u001b[0;34m'float'\u001b[0m\u001b[0;34m}\u001b[0m\u001b[0;34m)\u001b[0m\u001b[0;34m\u001b[0m\u001b[0;34m\u001b[0m\u001b[0m\n\u001b[1;32m      4\u001b[0m \u001b[0mincome_vars\u001b[0m\u001b[0;34m.\u001b[0m\u001b[0mto_csv\u001b[0m\u001b[0;34m(\u001b[0m\u001b[0;34m'data/tract_incomevars.csv'\u001b[0m\u001b[0;34m,\u001b[0m \u001b[0mindex\u001b[0m\u001b[0;34m=\u001b[0m\u001b[0;32mFalse\u001b[0m\u001b[0;34m)\u001b[0m\u001b[0;34m\u001b[0m\u001b[0;34m\u001b[0m\u001b[0m\n",
      "\u001b[0;31mNameError\u001b[0m: name 'pd' is not defined"
     ]
    }
   ],
   "source": [
    "food_atlas = pd.read_excel('data/FoodAccessResearchAtlasData2019.xlsx', sheet_name = 'Food Access Research Atlas', dtype=str)\n",
    "income_vars = food_atlas[['CensusTract', 'LowIncomeTracts', 'PovertyRate', 'MedianFamilyIncome']] \\\n",
    ".rename(columns={'CensusTract':'TractFIPS'}).astype({'LowIncomeTracts':int, 'MedianFamilyIncome':'float', 'PovertyRate':'float'})\n",
    "income_vars.to_csv('data/tract_incomevars.csv', index=False)"
   ]
  },
  {
   "cell_type": "code",
   "execution_count": null,
   "id": "f4e60571",
   "metadata": {},
   "outputs": [],
   "source": []
  }
 ],
 "metadata": {
  "kernelspec": {
   "display_name": "Python (ox)",
   "language": "python",
   "name": "ox"
  },
  "language_info": {
   "codemirror_mode": {
    "name": "ipython",
    "version": 3
   },
   "file_extension": ".py",
   "mimetype": "text/x-python",
   "name": "python",
   "nbconvert_exporter": "python",
   "pygments_lexer": "ipython3",
   "version": "3.9.7"
  }
 },
 "nbformat": 4,
 "nbformat_minor": 5
}
