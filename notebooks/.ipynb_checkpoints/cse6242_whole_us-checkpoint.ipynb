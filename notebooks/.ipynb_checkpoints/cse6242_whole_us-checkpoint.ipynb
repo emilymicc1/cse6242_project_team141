{
 "cells": [
  {
   "cell_type": "code",
   "execution_count": 1,
   "id": "stuck-colorado",
   "metadata": {},
   "outputs": [],
   "source": [
    "import osmnx as ox\n",
    "import pandas as pd\n",
    "import numpy as np\n",
    "import networkx as nx\n",
    "from tqdm import tqdm\n",
    "from scipy.spatial import KDTree\n",
    "from functools import lru_cache"
   ]
  },
  {
   "cell_type": "code",
   "execution_count": 2,
   "id": "spectacular-satin",
   "metadata": {},
   "outputs": [],
   "source": [
    "health = pd.read_csv(r'C:\\Users\\willd\\Documents\\Georgia Tech\\CSE6424\\Project\\PLACES__ZCTA_Data__GIS_Friendly_Format___2021_release.csv')"
   ]
  },
  {
   "cell_type": "code",
   "execution_count": 3,
   "id": "accredited-religious",
   "metadata": {},
   "outputs": [],
   "source": [
    "health['zcta_x'] = health['Geolocation'].map(lambda x: x.lstrip('POINT (').rstrip(')').split(' ')[0]).astype(np.float32)\n",
    "health['zcta_y'] = health['Geolocation'].map(lambda x: x.lstrip('POINT (').rstrip(')').split(' ')[1]).astype(np.float32)\n",
    "health['food_travel_time'] = np.nan\n",
    "health['worship_travel_time'] = np.nan\n",
    "health['education_travel_time'] = np.nan\n",
    "health['public_transport_dist'] = np.nan\n",
    "health['physical_activity_dist'] = np.nan"
   ]
  },
  {
   "cell_type": "code",
   "execution_count": 4,
   "id": "primary-robertson",
   "metadata": {},
   "outputs": [],
   "source": [
    "health.sort_values(['zcta_x', 'zcta_y'], inplace=True)  # For better lru_cache hits, hopefully"
   ]
  },
  {
   "cell_type": "code",
   "execution_count": 5,
   "id": "personalized-notebook",
   "metadata": {},
   "outputs": [],
   "source": [
    "food_tags = {'shop': 'supermarket', 'amenity': 'marketplace'}\n",
    "physical_tags = {'leisure': 'park', 'leisure': 'recreation_ground', 'leisure': 'playground', 'leisure': 'fitness_station',\n",
    "                'leisure': 'sports_centre', 'leisure': 'nature_reserve', 'leisure': 'pitch'}\n",
    "transport_tags = {'public_transport': 'platform', 'public_transport': 'stop_position', 'highway': 'bus_stop', 'highway': 'platform',\n",
    "                 'railway': 'subway_entrance', 'railway': 'station', 'railway': 'tram', 'railway': 'tram_stop', 'station': 'subway'}\n",
    "education_tags = {'amenity': 'library', 'amenity': 'school', 'amenity': 'kindergarten'}\n",
    "worship_tags = {'amenity': 'place_of_worship'}\n",
    "\n",
    "@lru_cache(maxsize=4096)\n",
    "def get_graph(y_max, y_min, x_max, x_min):\n",
    "    bbox = (y_max, y_min, x_max, x_min)\n",
    "    graph = ox.graph_from_bbox(*bbox, network_type='drive')\n",
    "    types = []\n",
    "    speeds = []\n",
    "    graph = ox.add_edge_speeds(graph, hwy_speeds={'tertiary': 72, 'residential': 40, 'secondary': 89, 'unknown': 50, 'unclassified': 50})  # In kph\n",
    "    graph = ox.add_edge_travel_times(graph)\n",
    "    graph = ox.utils_graph.get_largest_component(graph, strongly=True)\n",
    "    food_places = ox.geometries_from_bbox(*bbox, food_tags)\n",
    "    physical_places = ox.geometries_from_bbox(*bbox, physical_tags)\n",
    "    transport_places = ox.geometries_from_bbox(*bbox, transport_tags)\n",
    "    education_places = ox.geometries_from_bbox(*bbox, transport_tags)\n",
    "    worship_places = ox.geometries_from_bbox(*bbox, transport_tags)\n",
    "    if (food_places.shape[0] == 0) or (physical_places.shape[0] == 0) or (transport_places.shape[0] == 0) or (education_places.shape[0] == 0) or (worship_places.shape[0] == 0):\n",
    "        return None, None, None, None, None, None\n",
    "    food_places.loc[food_places['geometry'].type == 'Polygon', 'geometry'] = food_places.loc[food_places['geometry'].type == 'Polygon', 'geometry'].representative_point()\n",
    "    physical_places.loc[physical_places['geometry'].type == 'Polygon', 'geometry'] = physical_places.loc[physical_places['geometry'].type == 'Polygon', 'geometry'].representative_point()\n",
    "    transport_places.loc[transport_places['geometry'].type == 'Polygon', 'geometry'] = transport_places.loc[transport_places['geometry'].type == 'Polygon', 'geometry'].representative_point()\n",
    "    education_places.loc[education_places['geometry'].type == 'Polygon', 'geometry'] = education_places.loc[education_places['geometry'].type == 'Polygon', 'geometry'].representative_point()\n",
    "    worship_places.loc[worship_places['geometry'].type == 'Polygon', 'geometry'] = worship_places.loc[worship_places['geometry'].type == 'Polygon', 'geometry'].representative_point()\n",
    "    food_places = food_places['geometry'].droplevel(0)\n",
    "    physical_places = physical_places['geometry'].droplevel(0)\n",
    "    transport_places = transport_places['geometry'].droplevel(0)\n",
    "    education_places = education_places['geometry'].droplevel(0)\n",
    "    worship_places = worship_places['geometry'].droplevel(0)\n",
    "    food_places = food_places[food_places.type == 'Point']\n",
    "    physical_places = physical_places[physical_places.type == 'Point']\n",
    "    transport_places = transport_places[transport_places.type == 'Point']\n",
    "    education_places = education_places[education_places.type == 'Point']\n",
    "    worship_places = worship_places[worship_places.type == 'Point']\n",
    "    return graph, food_places, physical_places, transport_places, education_places, worship_places"
   ]
  },
  {
   "cell_type": "code",
   "execution_count": null,
   "id": "convenient-paintball",
   "metadata": {},
   "outputs": [
    {
     "name": "stderr",
     "output_type": "stream",
     "text": [
      "  0%|                                                                            | 3/32409 [02:17<411:26:39, 45.71s/it]"
     ]
    }
   ],
   "source": [
    "for idx, x, y in tqdm(zip(health.index, health['zcta_x'], health['zcta_y']), total=health.shape[0]):\n",
    "    graph, food_places, physical_places, transport_places, education_places, worship_places = get_graph(round(y+0.5, 1), round(y-0.5, 1), round(x+0.5, 1), round(x-0.5, 1))\n",
    "    if graph is None:\n",
    "        continue    \n",
    "    food_lat_lons = np.array([[graph.nodes[x]['x'] for x in food_nodes], [graph.nodes[x]['y'] for x in food_nodes]], dtype=np.float32).T\n",
    "    physical_lat_lons = np.array([[graph.nodes[x]['x'] for x in physical_nodes], [graph.nodes[x]['y'] for x in physical_nodes]], dtype=np.float32).T\n",
    "    transport_lat_lons = np.array([[graph.nodes[x]['x'] for x in transport_nodes], [graph.nodes[x]['y'] for x in transport_nodes]], dtype=np.float32).T\n",
    "    education_lat_lons = np.array([[graph.nodes[x]['x'] for x in education_nodes], [graph.nodes[x]['y'] for x in education_nodes]], dtype=np.float32).T\n",
    "    worship_lat_lons = np.array([[graph.nodes[x]['x'] for x in worship_nodes], [graph.nodes[x]['y'] for x in worship_nodes]], dtype=np.float32).T\n",
    "    food_tree = KDTree(food_lat_lons)\n",
    "    physical_tree = KDTree(physical_lat_lons)\n",
    "    transport_tree = KDTree(transport_lat_lons)\n",
    "    education_tree = KDTree(education_lat_lons)\n",
    "    worship_tree = KDTree(worship_lat_lons)\n",
    "    closest_food_nodes = []\n",
    "    closest_physical_nodes = []\n",
    "    closest_transport_nodes = []\n",
    "    closest_education_nodes = []\n",
    "    closest_worship_nodes = []\n",
    "    all_nearest_nodes, dists = ox.distance.nearest_nodes(graph, [x], [y], return_dist=True)\n",
    "    print(dists)\n",
    "    break"
   ]
  },
  {
   "cell_type": "code",
   "execution_count": null,
   "id": "operating-native",
   "metadata": {},
   "outputs": [],
   "source": []
  }
 ],
 "metadata": {
  "kernelspec": {
   "display_name": "Python [conda env:ox]",
   "language": "python",
   "name": "conda-env-ox-py"
  },
  "language_info": {
   "codemirror_mode": {
    "name": "ipython",
    "version": 3
   },
   "file_extension": ".py",
   "mimetype": "text/x-python",
   "name": "python",
   "nbconvert_exporter": "python",
   "pygments_lexer": "ipython3",
   "version": "3.10.4"
  }
 },
 "nbformat": 4,
 "nbformat_minor": 5
}
