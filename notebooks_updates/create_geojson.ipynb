{
 "cells": [
  {
   "cell_type": "code",
   "execution_count": 1,
   "id": "aerial-dimension",
   "metadata": {},
   "outputs": [],
   "source": [
    "import shapefile as shp\n",
    "import pandas as pd\n",
    "import numpy as np\n",
    "import json\n",
    "from tqdm import tqdm"
   ]
  },
  {
   "cell_type": "code",
   "execution_count": 7,
   "id": "adult-positive",
   "metadata": {},
   "outputs": [],
   "source": [
    "sf = shp.Reader(r'C:\\Users\\willd\\Documents\\Georgia Tech\\CSE6424\\Project\\ZCTA_US_shapefiles\\cb_2018_us_zcta510_500k.shp')"
   ]
  },
  {
   "cell_type": "code",
   "execution_count": 8,
   "id": "infinite-turkish",
   "metadata": {},
   "outputs": [],
   "source": [
    "records = sf.shapeRecords()"
   ]
  },
  {
   "cell_type": "code",
   "execution_count": 9,
   "id": "constitutional-apartment",
   "metadata": {},
   "outputs": [
    {
     "data": {
      "text/plain": [
       "[('DeletionFlag', 'C', 1, 0),\n",
       " ['ZCTA5CE10', 'C', 5, 0],\n",
       " ['AFFGEOID10', 'C', 14, 0],\n",
       " ['GEOID10', 'C', 5, 0],\n",
       " ['ALAND10', 'N', 14, 0],\n",
       " ['AWATER10', 'N', 14, 0]]"
      ]
     },
     "execution_count": 9,
     "metadata": {},
     "output_type": "execute_result"
    }
   ],
   "source": [
    "sf.fields"
   ]
  },
  {
   "cell_type": "code",
   "execution_count": 10,
   "id": "talented-leave",
   "metadata": {},
   "outputs": [],
   "source": [
    "tract_file = 'ZCTA_New_York_logt'\n",
    "df = pd.read_csv(r'C:\\Users\\willd\\Documents\\Georgia Tech\\CSE6424\\Project\\{}.csv'.format(tract_file))\n",
    "geojsons = []\n",
    "used_tract_ids = set()"
   ]
  },
  {
   "cell_type": "code",
   "execution_count": 11,
   "id": "distinguished-pointer",
   "metadata": {},
   "outputs": [
    {
     "name": "stderr",
     "output_type": "stream",
     "text": [
      "100%|██████████████████████████████████████████████████████████████████████████| 33144/33144 [00:17<00:00, 1882.12it/s]\n"
     ]
    }
   ],
   "source": [
    "for record in tqdm(records):\n",
    "    tract_id = int(record.record[0])\n",
    "    try:\n",
    "        row = df.loc[df['ZCTA5'] == tract_id].iloc[0]\n",
    "    except IndexError:\n",
    "        continue\n",
    "    used_tract_ids.add(tract_id)\n",
    "    d = record.__geo_interface__\n",
    "    d['properties'] = {'id': tract_id}\n",
    "    for c in df.columns:\n",
    "        if c.endswith('_CrudePrev'):\n",
    "            d['properties'][c] = row[c]\n",
    "    for c in ('education_closest_travel_times', 'food_closest_travel_times', 'worship_closest_travel_times',\n",
    "              'physical_closest_dist', 'transport_closest_dist'):\n",
    "        d['properties'][c] = row[c]\n",
    "    geojsons.append(d)"
   ]
  },
  {
   "cell_type": "code",
   "execution_count": 12,
   "id": "unlikely-wiring",
   "metadata": {},
   "outputs": [],
   "source": [
    "#sf2 = shp.Reader(r'C:\\Users\\willd\\Documents\\Georgia Tech\\CSE6424\\Project\\census_tract_New_York\\cb_2018_36_tract_500k.shp')"
   ]
  },
  {
   "cell_type": "code",
   "execution_count": 13,
   "id": "announced-tours",
   "metadata": {},
   "outputs": [],
   "source": [
    "#records2 = sf2.shapeRecords()"
   ]
  },
  {
   "cell_type": "code",
   "execution_count": 14,
   "id": "timely-society",
   "metadata": {},
   "outputs": [],
   "source": [
    "# for record in tqdm(records2):\n",
    "#     tract_id = int(record.record[4])\n",
    "#     if tract_id in used_tract_ids:\n",
    "#         continue\n",
    "#     try:\n",
    "#         row = df.loc[df['TractFIPS'] == tract_id].iloc[0]\n",
    "#     except IndexError:\n",
    "#         continue\n",
    "#     used_tract_ids.add(tract_id)\n",
    "#     d = record.__geo_interface__\n",
    "#     d['properties'] = {'id': tract_id}\n",
    "#     for c in df.columns:\n",
    "#         if c.endswith('_CrudePrev'):\n",
    "#             d['properties'][c] = row[c]\n",
    "#     for c in ('education_closest_travel_times', 'food_closest_travel_times', 'worship_closest_travel_times',\n",
    "#               'physical_closest_dist', 'transport_closest_dist', 'zcta_x', 'zcta_y'):\n",
    "#         d['properties'][c] = row[c]\n",
    "#     geojsons.append(d)"
   ]
  },
  {
   "cell_type": "code",
   "execution_count": 15,
   "id": "classified-cancellation",
   "metadata": {},
   "outputs": [
    {
     "data": {
      "text/plain": [
       "184"
      ]
     },
     "execution_count": 15,
     "metadata": {},
     "output_type": "execute_result"
    }
   ],
   "source": [
    "len(geojsons)"
   ]
  },
  {
   "cell_type": "code",
   "execution_count": 16,
   "id": "understood-apple",
   "metadata": {},
   "outputs": [],
   "source": [
    "geojsons = {\"type\":\"FeatureCollection\", \"features\": geojsons}"
   ]
  },
  {
   "cell_type": "code",
   "execution_count": 17,
   "id": "commercial-variance",
   "metadata": {},
   "outputs": [],
   "source": [
    "with open(r'C:\\Users\\willd\\Documents\\Georgia Tech\\CSE6424\\Project\\{}.json'.format(tract_file), 'w') as f:\n",
    "    json.dump(geojsons, f)"
   ]
  },
  {
   "cell_type": "code",
   "execution_count": 22,
   "id": "infectious-packet",
   "metadata": {},
   "outputs": [],
   "source": [
    "# val_mins = {}\n",
    "# val_maxes = {}\n",
    "# for f in geojsons['features']:\n",
    "#     for k, v in f['properties'].items():\n",
    "#         if k.endswith('CrudePrev'):\n",
    "#             try:\n",
    "#                 if v < val_mins[k]:\n",
    "#                     val_mins[k] = v\n",
    "#             except KeyError:\n",
    "#                 val_mins[k] = v\n",
    "#             try:\n",
    "#                 if v > val_maxes[k]:\n",
    "#                     val_maxes[k] = v\n",
    "#             except KeyError:\n",
    "#                 val_maxes[k] = v\n",
    "# with open(r'C:\\Users\\willd\\Documents\\Georgia Tech\\CSE6424\\Project\\mins_maxes.json', 'w') as f:\n",
    "#     json.dump({k: (v, val_maxes[k]) for k, v in val_mins.items()}, f)"
   ]
  }
 ],
 "metadata": {
  "kernelspec": {
   "display_name": "Python 3",
   "language": "python",
   "name": "python3"
  },
  "language_info": {
   "codemirror_mode": {
    "name": "ipython",
    "version": 3
   },
   "file_extension": ".py",
   "mimetype": "text/x-python",
   "name": "python",
   "nbconvert_exporter": "python",
   "pygments_lexer": "ipython3",
   "version": "3.7.10"
  }
 },
 "nbformat": 4,
 "nbformat_minor": 5
}
